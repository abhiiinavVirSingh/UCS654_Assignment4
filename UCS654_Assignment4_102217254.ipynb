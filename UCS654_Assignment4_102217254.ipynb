{
  "nbformat": 4,
  "nbformat_minor": 0,
  "metadata": {
    "colab": {
      "provenance": []
    },
    "kernelspec": {
      "name": "python3",
      "display_name": "Python 3"
    },
    "language_info": {
      "name": "python"
    }
  },
  "cells": [
    {
      "cell_type": "code",
      "execution_count": 1,
      "metadata": {
        "colab": {
          "base_uri": "https://localhost:8080/"
        },
        "id": "yMd1DqgqaRsg",
        "outputId": "8acb7e3d-3ec6-47b8-d366-2559400ffc00"
      },
      "outputs": [
        {
          "output_type": "stream",
          "name": "stdout",
          "text": [
            "Silhouette Score: 0.4024370101867174\n",
            "    area  perimeter  compactness  length_of_kernel  width_of_kernel  \\\n",
            "0  15.26      14.84       0.8710             5.763            3.312   \n",
            "1  14.88      14.57       0.8811             5.554            3.333   \n",
            "2  14.29      14.09       0.9050             5.291            3.337   \n",
            "3  13.84      13.94       0.8955             5.324            3.379   \n",
            "4  16.14      14.99       0.9034             5.658            3.562   \n",
            "\n",
            "   asymmetry_coefficient  length_of_kernel_groove  class  Cluster  \n",
            "0                  2.221                    5.220      1        2  \n",
            "1                  1.018                    4.956      1        2  \n",
            "2                  2.699                    4.825      1        2  \n",
            "3                  2.259                    4.805      1        2  \n",
            "4                  1.355                    5.175      1        2  \n"
          ]
        }
      ],
      "source": [
        "import pandas as pd\n",
        "from sklearn.preprocessing import StandardScaler\n",
        "from sklearn.cluster import KMeans\n",
        "from sklearn.metrics import silhouette_score\n",
        "\n",
        "# Load the Seeds dataset\n",
        "file_path = \"seeds_dataset.txt\"  # Update this if using a different path\n",
        "column_names = [\n",
        "    \"area\", \"perimeter\", \"compactness\", \"length_of_kernel\", \"width_of_kernel\",\n",
        "    \"asymmetry_coefficient\", \"length_of_kernel_groove\", \"class\"\n",
        "]\n",
        "\n",
        "# Read the dataset (handles whitespace)\n",
        "seeds_df = pd.read_csv(file_path, sep=\"\\s+\", names=column_names)\n",
        "\n",
        "# Drop the actual class labels for unsupervised learning\n",
        "X = seeds_df.drop(\"class\", axis=1)\n",
        "\n",
        "# Standardize the features\n",
        "scaler = StandardScaler()\n",
        "X_scaled = scaler.fit_transform(X)\n",
        "\n",
        "# Apply KMeans clustering\n",
        "kmeans = KMeans(n_clusters=3, random_state=42)\n",
        "kmeans_labels = kmeans.fit_predict(X_scaled)\n",
        "\n",
        "# Add the cluster labels to the original dataframe\n",
        "seeds_df[\"Cluster\"] = kmeans_labels\n",
        "\n",
        "# Evaluate the clustering with silhouette score\n",
        "sil_score = silhouette_score(X_scaled, kmeans_labels)\n",
        "\n",
        "# Output\n",
        "print(\"Silhouette Score:\", sil_score)\n",
        "print(seeds_df.head())\n"
      ]
    },
    {
      "cell_type": "code",
      "source": [
        "from sklearn.cluster import AgglomerativeClustering, MeanShift, estimate_bandwidth\n",
        "\n",
        "# Hierarchical Clustering\n",
        "hierarchical = AgglomerativeClustering(n_clusters=3)\n",
        "hierarchical_labels = hierarchical.fit_predict(X_scaled)\n",
        "\n",
        "# MeanShift Clustering\n",
        "bandwidth = estimate_bandwidth(X_scaled, quantile=0.2, n_samples=100)\n",
        "meanshift = MeanShift(bandwidth=bandwidth, bin_seeding=True)\n",
        "meanshift_labels = meanshift.fit_predict(X_scaled)\n",
        "\n",
        "# Add labels to dataframe\n",
        "seeds_df[\"Hierarchical_Cluster\"] = hierarchical_labels\n",
        "seeds_df[\"MeanShift_Cluster\"] = meanshift_labels\n",
        "\n",
        "# Silhouette scores\n",
        "sil_score_hierarchical = silhouette_score(X_scaled, hierarchical_labels)\n",
        "sil_score_meanshift = silhouette_score(X_scaled, meanshift_labels)\n",
        "\n",
        "print(\"Silhouette Score (Hierarchical):\", sil_score_hierarchical)\n",
        "print(\"Silhouette Score (MeanShift):\", sil_score_meanshift)\n",
        "print(seeds_df[[\"Cluster\", \"Hierarchical_Cluster\", \"MeanShift_Cluster\"]].head())\n"
      ],
      "metadata": {
        "colab": {
          "base_uri": "https://localhost:8080/"
        },
        "id": "7f3bxgseaVn1",
        "outputId": "a64863af-8d29-409f-f454-a2ab48399db5"
      },
      "execution_count": 2,
      "outputs": [
        {
          "output_type": "stream",
          "name": "stdout",
          "text": [
            "Silhouette Score (Hierarchical): 0.3926339709101015\n",
            "Silhouette Score (MeanShift): 0.4674286233538442\n",
            "   Cluster  Hierarchical_Cluster  MeanShift_Cluster\n",
            "0        2                     0                  0\n",
            "1        2                     0                  0\n",
            "2        2                     0                  0\n",
            "3        2                     0                  0\n",
            "4        2                     0                  0\n"
          ]
        }
      ]
    },
    {
      "cell_type": "code",
      "source": [
        "print(\"Number of rows:\", seeds_df.shape[0])\n"
      ],
      "metadata": {
        "colab": {
          "base_uri": "https://localhost:8080/"
        },
        "id": "nskSeHK0ankQ",
        "outputId": "01df2e5b-81e0-4348-877e-899e96ab79e4"
      },
      "execution_count": 3,
      "outputs": [
        {
          "output_type": "stream",
          "name": "stdout",
          "text": [
            "Number of rows: 210\n"
          ]
        }
      ]
    }
  ]
}